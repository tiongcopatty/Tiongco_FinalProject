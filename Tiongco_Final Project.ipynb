{
 "cells": [
  {
   "cell_type": "code",
   "execution_count": 64,
   "id": "c87480ce",
   "metadata": {},
   "outputs": [
    {
     "name": "stdout",
     "output_type": "stream",
     "text": [
      "showing info https://raw.githubusercontent.com/nltk/nltk_data/gh-pages/index.xml\n"
     ]
    },
    {
     "data": {
      "text/plain": [
       "True"
      ]
     },
     "execution_count": 64,
     "metadata": {},
     "output_type": "execute_result"
    }
   ],
   "source": [
    "nltk.download() #nltk.download()#this will open the nltk download manager"
   ]
  },
  {
   "cell_type": "code",
   "execution_count": 23,
   "id": "93bf9139",
   "metadata": {},
   "outputs": [],
   "source": [
    "import nltk\n",
    "#need natin ito para mag work ang nltk. bale ang nltk ang mag support sa data preparation\n",
    "import pandas as pd\n",
    "import numpy as np\n",
    "from nltk.stem import WordNetLemmatizer\n",
    "from nltk.corpus import wordnet\n",
    "import re, collections\n",
    "from collections import defaultdict\n",
    "from sklearn.feature_extraction.text import CountVectorizer\n",
    "from sklearn.metrics import mean_squared_error, r2_score, cohen_kappa_score\n",
    "from sklearn.model_selection import train_test_split\n",
    "from sklearn.linear_model import LinearRegression, Ridge, Lasso\n",
    "from sklearn.svm import SVR\n",
    "from sklearn.ensemble import RandomForestRegressor\n",
    "from sklearn.ensemble import AdaBoostRegressor\n",
    "from spellchecker import SpellChecker\n",
    "from sklearn.decomposition import TruncatedSVD\n",
    "from sklearn.feature_extraction.text import TfidfVectorizer\n",
    "from sklearn.neighbors import KNeighborsClassifier, NearestNeighbors\n",
    "from nltk.tokenize import word_tokenize\n",
    "import string\n",
    "from sklearn.metrics import classification_report\n",
    "from sklearn import svm\n",
    "from sklearn.model_selection import cross_val_score\n",
    "from sklearn.metrics import classification_report\n",
    "from sklearn.preprocessing import MinMaxScaler\n",
    "from sklearn.metrics import cohen_kappa_score\n",
    "from sklearn.model_selection import GridSearchCV\n",
    "import seaborn as sns\n",
    "import matplotlib.pyplot as plt\n",
    "from matplotlib import rcParams\n",
    "from scipy import sparse\n",
    "import re\n",
    "import csv "
   ]
  },
  {
   "cell_type": "code",
   "execution_count": 24,
   "id": "fc17a81f",
   "metadata": {},
   "outputs": [
    {
     "data": {
      "text/html": [
       "<div>\n",
       "<style scoped>\n",
       "    .dataframe tbody tr th:only-of-type {\n",
       "        vertical-align: middle;\n",
       "    }\n",
       "\n",
       "    .dataframe tbody tr th {\n",
       "        vertical-align: top;\n",
       "    }\n",
       "\n",
       "    .dataframe thead th {\n",
       "        text-align: right;\n",
       "    }\n",
       "</style>\n",
       "<table border=\"1\" class=\"dataframe\">\n",
       "  <thead>\n",
       "    <tr style=\"text-align: right;\">\n",
       "      <th></th>\n",
       "      <th>essay_id</th>\n",
       "      <th>essay_set</th>\n",
       "      <th>rater1_domain1</th>\n",
       "      <th>rater2_domain1</th>\n",
       "      <th>domain1_score</th>\n",
       "    </tr>\n",
       "  </thead>\n",
       "  <tbody>\n",
       "    <tr>\n",
       "      <th>count</th>\n",
       "      <td>12978.000000</td>\n",
       "      <td>12978.000000</td>\n",
       "      <td>12977.000000</td>\n",
       "      <td>12977.000000</td>\n",
       "      <td>12977.000000</td>\n",
       "    </tr>\n",
       "    <tr>\n",
       "      <th>mean</th>\n",
       "      <td>10295.432809</td>\n",
       "      <td>4.179458</td>\n",
       "      <td>4.126840</td>\n",
       "      <td>4.137089</td>\n",
       "      <td>6.799723</td>\n",
       "    </tr>\n",
       "    <tr>\n",
       "      <th>std</th>\n",
       "      <td>6308.588616</td>\n",
       "      <td>2.136749</td>\n",
       "      <td>4.212537</td>\n",
       "      <td>4.264320</td>\n",
       "      <td>8.970558</td>\n",
       "    </tr>\n",
       "    <tr>\n",
       "      <th>min</th>\n",
       "      <td>1.000000</td>\n",
       "      <td>1.000000</td>\n",
       "      <td>0.000000</td>\n",
       "      <td>0.000000</td>\n",
       "      <td>0.000000</td>\n",
       "    </tr>\n",
       "    <tr>\n",
       "      <th>25%</th>\n",
       "      <td>4439.250000</td>\n",
       "      <td>2.000000</td>\n",
       "      <td>2.000000</td>\n",
       "      <td>2.000000</td>\n",
       "      <td>2.000000</td>\n",
       "    </tr>\n",
       "    <tr>\n",
       "      <th>50%</th>\n",
       "      <td>10045.500000</td>\n",
       "      <td>4.000000</td>\n",
       "      <td>3.000000</td>\n",
       "      <td>3.000000</td>\n",
       "      <td>3.000000</td>\n",
       "    </tr>\n",
       "    <tr>\n",
       "      <th>75%</th>\n",
       "      <td>15680.750000</td>\n",
       "      <td>6.000000</td>\n",
       "      <td>4.000000</td>\n",
       "      <td>4.000000</td>\n",
       "      <td>8.000000</td>\n",
       "    </tr>\n",
       "    <tr>\n",
       "      <th>max</th>\n",
       "      <td>21633.000000</td>\n",
       "      <td>8.000000</td>\n",
       "      <td>30.000000</td>\n",
       "      <td>30.000000</td>\n",
       "      <td>60.000000</td>\n",
       "    </tr>\n",
       "  </tbody>\n",
       "</table>\n",
       "</div>"
      ],
      "text/plain": [
       "           essay_id     essay_set  rater1_domain1  rater2_domain1  \\\n",
       "count  12978.000000  12978.000000    12977.000000    12977.000000   \n",
       "mean   10295.432809      4.179458        4.126840        4.137089   \n",
       "std     6308.588616      2.136749        4.212537        4.264320   \n",
       "min        1.000000      1.000000        0.000000        0.000000   \n",
       "25%     4439.250000      2.000000        2.000000        2.000000   \n",
       "50%    10045.500000      4.000000        3.000000        3.000000   \n",
       "75%    15680.750000      6.000000        4.000000        4.000000   \n",
       "max    21633.000000      8.000000       30.000000       30.000000   \n",
       "\n",
       "       domain1_score  \n",
       "count   12977.000000  \n",
       "mean        6.799723  \n",
       "std         8.970558  \n",
       "min         0.000000  \n",
       "25%         2.000000  \n",
       "50%         3.000000  \n",
       "75%         8.000000  \n",
       "max        60.000000  "
      ]
     },
     "execution_count": 24,
     "metadata": {},
     "output_type": "execute_result"
    }
   ],
   "source": [
    "#pip install pyspellchecker\n",
    "#pip install spellchecker\n",
    "#description of the data in the Dataframe\n",
    "dataframe = pd.read_csv('essay_set_descriptions.csv',encoding = 'latin-1')\n",
    "\n",
    "dataframe.describe()"
   ]
  },
  {
   "cell_type": "code",
   "execution_count": 25,
   "id": "88ff766e",
   "metadata": {},
   "outputs": [
    {
     "data": {
      "text/html": [
       "<div>\n",
       "<style scoped>\n",
       "    .dataframe tbody tr th:only-of-type {\n",
       "        vertical-align: middle;\n",
       "    }\n",
       "\n",
       "    .dataframe tbody tr th {\n",
       "        vertical-align: top;\n",
       "    }\n",
       "\n",
       "    .dataframe thead th {\n",
       "        text-align: right;\n",
       "    }\n",
       "</style>\n",
       "<table border=\"1\" class=\"dataframe\">\n",
       "  <thead>\n",
       "    <tr style=\"text-align: right;\">\n",
       "      <th></th>\n",
       "      <th>essay_id</th>\n",
       "      <th>essay_set</th>\n",
       "      <th>essay</th>\n",
       "      <th>rater1_domain1</th>\n",
       "      <th>rater2_domain1</th>\n",
       "      <th>domain1_score</th>\n",
       "    </tr>\n",
       "  </thead>\n",
       "  <tbody>\n",
       "    <tr>\n",
       "      <th>0</th>\n",
       "      <td>1</td>\n",
       "      <td>1</td>\n",
       "      <td>Dear local newspaper, I think effects computer...</td>\n",
       "      <td>4.0</td>\n",
       "      <td>4.0</td>\n",
       "      <td>8.0</td>\n",
       "    </tr>\n",
       "    <tr>\n",
       "      <th>1</th>\n",
       "      <td>2</td>\n",
       "      <td>1</td>\n",
       "      <td>Dear @CAPS1 @CAPS2, I believe that using compu...</td>\n",
       "      <td>5.0</td>\n",
       "      <td>4.0</td>\n",
       "      <td>9.0</td>\n",
       "    </tr>\n",
       "    <tr>\n",
       "      <th>2</th>\n",
       "      <td>3</td>\n",
       "      <td>1</td>\n",
       "      <td>Dear, @CAPS1 @CAPS2 @CAPS3 More and more peopl...</td>\n",
       "      <td>4.0</td>\n",
       "      <td>3.0</td>\n",
       "      <td>7.0</td>\n",
       "    </tr>\n",
       "    <tr>\n",
       "      <th>3</th>\n",
       "      <td>4</td>\n",
       "      <td>1</td>\n",
       "      <td>Dear Local Newspaper, @CAPS1 I have found that...</td>\n",
       "      <td>5.0</td>\n",
       "      <td>5.0</td>\n",
       "      <td>10.0</td>\n",
       "    </tr>\n",
       "    <tr>\n",
       "      <th>4</th>\n",
       "      <td>5</td>\n",
       "      <td>1</td>\n",
       "      <td>Dear @LOCATION1, I know having computers has a...</td>\n",
       "      <td>4.0</td>\n",
       "      <td>4.0</td>\n",
       "      <td>8.0</td>\n",
       "    </tr>\n",
       "  </tbody>\n",
       "</table>\n",
       "</div>"
      ],
      "text/plain": [
       "   essay_id  essay_set                                              essay  \\\n",
       "0         1          1  Dear local newspaper, I think effects computer...   \n",
       "1         2          1  Dear @CAPS1 @CAPS2, I believe that using compu...   \n",
       "2         3          1  Dear, @CAPS1 @CAPS2 @CAPS3 More and more peopl...   \n",
       "3         4          1  Dear Local Newspaper, @CAPS1 I have found that...   \n",
       "4         5          1  Dear @LOCATION1, I know having computers has a...   \n",
       "\n",
       "   rater1_domain1  rater2_domain1  domain1_score  \n",
       "0             4.0             4.0            8.0  \n",
       "1             5.0             4.0            9.0  \n",
       "2             4.0             3.0            7.0  \n",
       "3             5.0             5.0           10.0  \n",
       "4             4.0             4.0            8.0  "
      ]
     },
     "execution_count": 25,
     "metadata": {},
     "output_type": "execute_result"
    }
   ],
   "source": [
    "dataframe.head() #gives the first five data from the dataset"
   ]
  },
  {
   "cell_type": "code",
   "execution_count": 26,
   "id": "1c0e9f5b",
   "metadata": {},
   "outputs": [
    {
     "data": {
      "text/plain": [
       "Index(['essay_id', 'essay_set', 'essay', 'rater1_domain1', 'rater2_domain1',\n",
       "       'domain1_score'],\n",
       "      dtype='object')"
      ]
     },
     "execution_count": 26,
     "metadata": {},
     "output_type": "execute_result"
    }
   ],
   "source": [
    "#checking the dataframe columns\n",
    "dataframe.columns "
   ]
  },
  {
   "cell_type": "code",
   "execution_count": 27,
   "id": "a3b0e992",
   "metadata": {},
   "outputs": [
    {
     "data": {
      "text/plain": [
       "0            1\n",
       "1            2\n",
       "2            3\n",
       "3            4\n",
       "4            5\n",
       "         ...  \n",
       "12973    21626\n",
       "12974    21628\n",
       "12975    21629\n",
       "12976    21630\n",
       "12977    21633\n",
       "Name: essay_id, Length: 12978, dtype: int64"
      ]
     },
     "execution_count": 27,
     "metadata": {},
     "output_type": "execute_result"
    }
   ],
   "source": [
    "#checking the data on first column\n",
    "dataframe.essay_id\n"
   ]
  },
  {
   "cell_type": "code",
   "execution_count": 28,
   "id": "9c063620",
   "metadata": {},
   "outputs": [
    {
     "name": "stdout",
     "output_type": "stream",
     "text": [
      "       essay_set                                              essay  \\\n",
      "0              1  Dear local newspaper, I think effects computer...   \n",
      "1              1  Dear @CAPS1 @CAPS2, I believe that using compu...   \n",
      "2              1  Dear, @CAPS1 @CAPS2 @CAPS3 More and more peopl...   \n",
      "3              1  Dear Local Newspaper, @CAPS1 I have found that...   \n",
      "4              1  Dear @LOCATION1, I know having computers has a...   \n",
      "...          ...                                                ...   \n",
      "12973          8   In most stories mothers and daughters are eit...   \n",
      "12974          8   I never understood the meaning laughter is th...   \n",
      "12975          8  When you laugh, is @CAPS5 out of habit, or is ...   \n",
      "12976          8                                 Trippin' on fen...   \n",
      "12977          8   Many people believe that laughter can improve...   \n",
      "\n",
      "       domain1_score  \n",
      "0                8.0  \n",
      "1                9.0  \n",
      "2                7.0  \n",
      "3               10.0  \n",
      "4                8.0  \n",
      "...              ...  \n",
      "12973           35.0  \n",
      "12974           32.0  \n",
      "12975           40.0  \n",
      "12976           40.0  \n",
      "12977           40.0  \n",
      "\n",
      "[12978 rows x 3 columns]\n"
     ]
    }
   ],
   "source": [
    "data = dataframe[['essay_set','essay','domain1_score']].copy()\n",
    "\n",
    "print(data)"
   ]
  },
  {
   "cell_type": "code",
   "execution_count": 29,
   "id": "a635f740",
   "metadata": {},
   "outputs": [
    {
     "data": {
      "text/plain": [
       "<AxesSubplot:title={'center':'domain1_score'}, xlabel='essay_set'>"
      ]
     },
     "execution_count": 29,
     "metadata": {},
     "output_type": "execute_result"
    },
    {
     "data": {
      "image/png": "[encoded data removed]",
      "text/plain": [
       "<Figure size 720x720 with 1 Axes>"
      ]
     },
     "metadata": {
      "needs_background": "light"
     },
     "output_type": "display_data"
    }
   ],
   "source": [
    "#plotting\n",
    "# Essay sets 1-6 has a short box plot meaning that the domain1_score has a high level of agreement with the essay set. While set 7 has a difference between these two groups. \n",
    "# Lastly, the boxplot for essay_set 8 has a higher plot compared to the domain1_score\n",
    "%matplotlib inline\n",
    "dataframe.boxplot(column = 'domain1_score', by = 'essay_set', figsize = (10, 10))"
   ]
  },
  {
   "cell_type": "code",
   "execution_count": 30,
   "id": "cd4ee677",
   "metadata": {},
   "outputs": [],
   "source": [
    "# selecting which set to be used 1-8\n",
    "# in order to combine them all assign set number to 9\n",
    "def select_set(dataframe,setNumber):\n",
    "    if setNumber == 1783:\n",
    "        dataframe2 = dataframe[dataframe.essay_set ==1]\n",
    "        texts = dataframe2['essay']\n",
    "        scores = dataframe2['domain1_score']\n",
    "        scores = scores.apply(lambda x: (x*3)/scores.max())\n",
    "        for i in range(1,1783):\n",
    "            dataframe2 = dataframe[dataframe.values == 1]\n",
    "            texts = texts.append(dataframe2['essay'])\n",
    "            s = dataframe2['domain1_score']\n",
    "            s = s.apply(lambda x: (x*3)/s.max())\n",
    "            scores = scores.append(s)\n",
    "    else:\n",
    "        dataframe2 = dataframe[dataframe.essay_set==setNumber]\n",
    "        texts = dataframe2['essay']\n",
    "        scores = dataframe2['domain1_score']\n",
    "        scores = scores.apply(lambda x: (x*3)/scores.max())\n",
    "    return texts, scores\n"
   ]
  },
  {
   "cell_type": "code",
   "execution_count": 31,
   "id": "d86a30b2",
   "metadata": {},
   "outputs": [],
   "source": [
    "# get histogram plot of scores and average score\n",
    "def get_hist_avg(scores,bin_count):\n",
    "    print(sum(scores)/len(scores))\n",
    "    scores.hist(bins=bin_count)"
   ]
  },
  {
   "cell_type": "code",
   "execution_count": 32,
   "id": "38930e91",
   "metadata": {},
   "outputs": [],
   "source": [
    "#average word length for a text\n",
    "def avg_word_len(text):\n",
    "    clean_essay = re.sub(r'\\W', ' ', text)\n",
    "    words = nltk.word_tokenize(clean_essay)\n",
    "    total = 0\n",
    "    for word in words:\n",
    "        total = total + len(word)\n",
    "    average = total / len(words)\n",
    "    \n",
    "    return average\n",
    "\n",
    "# word count in a given text\n",
    "def word_count(text):\n",
    "    clean_essay = re.sub(r'\\W', ' ', text)\n",
    "    return len(nltk.word_tokenize(clean_essay))\n",
    "\n",
    "# char count in a given text\n",
    "def char_count(text):\n",
    "    return len(re.sub(r'\\s', '', str(text).lower()))\n",
    "\n",
    "# sentence count in a given text\n",
    "def sent_count(text):\n",
    "    return len(nltk.sent_tokenize(text))\n",
    "\n",
    "#tokenization of texts to sentences\n",
    "def sent_tokenize(text):\n",
    "    stripped_essay = text.strip()\n",
    "    \n",
    "    tokenizer = nltk.data.load('tokenizers/punkt/english.pickle')\n",
    "    raw_sentences = tokenizer.tokenize(stripped_essay)\n",
    "    \n",
    "    tokenized_sentences = []\n",
    "    for raw_sentence in raw_sentences:\n",
    "        if len(raw_sentence) > 0:\n",
    "            clean_sentence = re.sub(\"[^a-zA-Z0-9]\",\" \", raw_sentence)\n",
    "            tokens = nltk.word_tokenize(clean_sentence)\n",
    "            tokenized_sentences.append(tokens)\n",
    "    return tokenized_sentences\n",
    "\n",
    "\n",
    "# lemma, noun, adjective, verb, adverb count for a given text\n",
    "\n",
    "def count_lemmas(text):\n",
    "    \n",
    "    noun_count = 0\n",
    "    adj_count = 0\n",
    "    verb_count = 0\n",
    "    adv_count = 0   \n",
    "    lemmas = []\n",
    "    lemmatizer = WordNetLemmatizer()\n",
    "    tokenized_sentences = sent_tokenize(text)\n",
    "    \n",
    "    for sentence in tokenized_sentences:\n",
    "        tagged_tokens = nltk.pos_tag(sentence) \n",
    "        \n",
    "        for token_tuple in tagged_tokens:\n",
    "            pos_tag = token_tuple[1]\n",
    "            \n",
    "            if pos_tag.startswith('N'): \n",
    "                noun_count += 1\n",
    "                pos = wordnet.NOUN\n",
    "                lemmas.append(lemmatizer.lemmatize(token_tuple[0], pos))\n",
    "            elif pos_tag.startswith('J'):\n",
    "                adj_count += 1\n",
    "                pos = wordnet.ADJ\n",
    "                lemmas.append(lemmatizer.lemmatize(token_tuple[0], pos))\n",
    "            elif pos_tag.startswith('V'):\n",
    "                verb_count += 1\n",
    "                pos = wordnet.VERB\n",
    "                lemmas.append(lemmatizer.lemmatize(token_tuple[0], pos))\n",
    "            elif pos_tag.startswith('R'):\n",
    "                adv_count += 1\n",
    "                pos = wordnet.ADV\n",
    "                lemmas.append(lemmatizer.lemmatize(token_tuple[0], pos))\n",
    "            else:\n",
    "                pos = wordnet.NOUN\n",
    "                lemmas.append(lemmatizer.lemmatize(token_tuple[0], pos))\n",
    "    \n",
    "    lemma_count = len(set(lemmas))\n",
    "    \n",
    "    return noun_count, adj_count, verb_count, adv_count, lemma_count"
   ]
  },
  {
   "cell_type": "code",
   "execution_count": 33,
   "id": "5ff22aff",
   "metadata": {},
   "outputs": [],
   "source": [
    "def token_word(text):\n",
    "    text = \"\".join([ch.lower() for ch in text if ch not in string.punctuation])\n",
    "    tokens = nltk.word_tokenize(text)\n",
    "    return tokens"
   ]
  },
  {
   "cell_type": "code",
   "execution_count": 34,
   "id": "2565fc6b",
   "metadata": {},
   "outputs": [],
   "source": [
    "def misspell_count(text):\n",
    "    spelling = SpellChecker()\n",
    "    # find those words that may be misspelled\n",
    "    misspelled = spelling.unknown(token_word(text))\n",
    "    #print(misspelled)\n",
    "    return len(misspelled)"
   ]
  },
  {
   "cell_type": "code",
   "execution_count": 35,
   "id": "04d1f6f3",
   "metadata": {},
   "outputs": [],
   "source": [
    "def create_features(texts):\n",
    "    data = pd.DataFrame(columns=('Average_Word_Length','Sentence_Count','Word_Count',\n",
    "                                'Character_Count', 'Noun_Count','Adjective_Count',\n",
    "                                'Verb_Count', 'Adverb_Count', 'Lemma_Count' , 'Misspell_Count'\n",
    "                                 ))\n",
    "\n",
    "    data['Average_Word_Length'] = texts.apply(avg_word_len)\n",
    "    data['Sentence_Count'] = texts.apply(sent_count)\n",
    "    data['Word_Count'] = texts.apply(word_count)\n",
    "    data['Character_Count'] = texts.apply(char_count)\n",
    "    temp=texts.apply(count_lemmas)\n",
    "    noun_count,adj_count,verb_count,adverb_count,lemma_count = zip(*temp)\n",
    "    data['Noun_Count'] = noun_count\n",
    "    data['Adjective_Count'] = adj_count\n",
    "    data['Verb_Count'] = verb_count\n",
    "    data['Adverb_Count'] = adverb_count\n",
    "    data['Lemma_Count'] = lemma_count\n",
    "    data['Misspell_Count'] = texts.apply(misspell_count)\n",
    "    return data\n"
   ]
  },
  {
   "cell_type": "code",
   "execution_count": 36,
   "id": "66250d7e",
   "metadata": {},
   "outputs": [],
   "source": [
    "#checking create features if it is working\n",
    "#print(texts)"
   ]
  },
  {
   "cell_type": "code",
   "execution_count": 37,
   "id": "f73a95e5",
   "metadata": {},
   "outputs": [],
   "source": [
    "def data_prepare(texts,scores):\n",
    "    #create features from the texts and clean non graded essays\n",
    "    data = create_features(texts)\n",
    "    data.describe()\n",
    "    t1=np.where(np.asanyarray(np.isnan(scores)))\n",
    "    scores=scores.drop(scores.index[t1])\n",
    "    data=data.drop(scores.index[t1])\n",
    "     #train test split\n",
    "    X_train, X_test, y_train, y_test = train_test_split(data, scores, test_size = 0.3)\n",
    "    print(X_train)\n",
    "    #checking if there are any nan cells\n",
    "    print(np.any(np.isnan(scores)))\n",
    "    print(np.all(np.isfinite(scores)))\n",
    "\n",
    "    return X_train, X_test, y_train, y_test, data\n"
   ]
  },
  {
   "cell_type": "code",
   "execution_count": 44,
   "id": "10ce5078",
   "metadata": {},
   "outputs": [
    {
     "name": "stdout",
     "output_type": "stream",
     "text": [
      "      Average_Word_Length  Sentence_Count  Word_Count  Character_Count  \\\n",
      "0                4.237143              16         350             1538   \n",
      "1                4.312057              20         423             1870   \n",
      "2                4.342756              14         283             1263   \n",
      "3                4.813208              27         530             2642   \n",
      "4                4.334038              30         473             2105   \n",
      "...                   ...             ...         ...              ...   \n",
      "1778             4.015717              21         509             2094   \n",
      "1779             4.014019              18         214              894   \n",
      "1780             4.489865              18         296             1352   \n",
      "1781             3.733333               1          15               57   \n",
      "1782             4.078341              18         217              907   \n",
      "\n",
      "      Noun_Count  Adjective_Count  Verb_Count  Adverb_Count  Lemma_Count  \\\n",
      "0             83               18          74            24          162   \n",
      "1            107               19          85            19          185   \n",
      "2             82               20          52            16          145   \n",
      "3            178               42          97            29          236   \n",
      "4            114               32          90            36          190   \n",
      "...          ...              ...         ...           ...          ...   \n",
      "1778         114               35         108            39          206   \n",
      "1779          53               13          46            10          109   \n",
      "1780          82               15          56             8          100   \n",
      "1781           2                3           2             0           14   \n",
      "1782          52               18          41            19          120   \n",
      "\n",
      "      Misspell_Count  \n",
      "0                 18  \n",
      "1                 19  \n",
      "2                  9  \n",
      "3                 44  \n",
      "4                 13  \n",
      "...              ...  \n",
      "1778              15  \n",
      "1779               8  \n",
      "1780               4  \n",
      "1781               0  \n",
      "1782               5  \n",
      "\n",
      "[1783 rows x 10 columns] 0       2.00\n",
      "1       2.25\n",
      "2       1.75\n",
      "3       2.50\n",
      "4       2.00\n",
      "        ... \n",
      "1778    2.00\n",
      "1779    1.75\n",
      "1780    2.00\n",
      "1781    0.50\n",
      "1782    1.75\n",
      "Name: domain1_score, Length: 1783, dtype: float64\n"
     ]
    }
   ],
   "source": [
    "print(data,scores)"
   ]
  },
  {
   "cell_type": "code",
   "execution_count": 39,
   "id": "b28389b9",
   "metadata": {},
   "outputs": [],
   "source": [
    "# Training a Linear Regression model using only Bag of Words (BOW)\n",
    "def lin_regression(X_train,y_train,X_test,y_test):\n",
    "    regr = LinearRegression()\n",
    "    regr.fit(X_train, y_train)\n",
    "    y_pred = regr.predict(X_test)\n",
    "\n",
    "    # The mean squared error\n",
    "    mse=mean_squared_error(y_test, y_pred)\n",
    "    mse_per= 100*mse/3\n",
    "    print(\"Mean squared error: {}\".format(mse))\n",
    "    print(\"Mean squared error in percentage: {}\".format(mse_per))\n",
    "    #explained variance score\n",
    "    print('Variance score: {}'.format(regr.score(X_test, y_test)))\n",
    "    "
   ]
  },
  {
   "cell_type": "code",
   "execution_count": 1,
   "id": "42ae21e5",
   "metadata": {},
   "outputs": [],
   "source": [
    "# the adaboost regressor is used to increase the efficiency of the binary classifiers\n",
    "def adaBoost_reg(X_train,y_train,X_test,y_test):\n",
    "    regr = AdaBoostRegressor()\n",
    "    regr.fit(X_train, y_train)\n",
    "    y_pred = regr.predict(X_test)\n",
    "    # The mean squared error\n",
    "    mse=mean_squared_error(y_test, y_pred)\n",
    "    mse_per= 100*mse/3\n",
    "    print(\"Mean squared error: {}\".format(mse))\n",
    "    print(\"Mean squared error in percentage: {}\".format(mse_per))\n",
    "    #explained variance score\n",
    "    print('Variance score: {}'.format(regr.score(X_test, y_test)))\n",
    "\n",
    "    feature_importance = regr.feature_importances_\n",
    "\n",
    "    # make importances relative to max importance\n",
    "    feature_importance = 100.0 * (feature_importance / feature_importance.max())\n",
    "    feature_names = list(('Average_Word_Length','Sentence_Count','Word_Count',\n",
    "                                'Character_Count', 'Noun_Count','Adjective_Count',\n",
    "                                'Verb_Count', 'Adverb_Count', 'Lemma_Count' ,'Misspell_Count'\n",
    "                                 ))\n",
    "    feature_names = np.asarray(feature_names)\n",
    "    sorted_idx = np.argsort(feature_importance)\n",
    "    pos = np.arange(sorted_idx.shape[0]) + .5\n",
    "    plt.subplot(1, 2, 2)\n",
    "    plt.barh(pos, feature_importance[sorted_idx], align='center')\n",
    "    plt.yticks(pos, feature_names[sorted_idx])\n",
    "    plt.xlabel('Relative Importance')\n",
    "    plt.title('Variable Importance')\n",
    "    plt.show()"
   ]
  },
  {
   "cell_type": "code",
   "execution_count": 41,
   "id": "9a8f9b80",
   "metadata": {},
   "outputs": [],
   "source": [
    "# convert numerical scores to labels\n",
    "# (0-1.5) bad (1.5-2.3) average (2.3-3) good\n",
    "# bad:    '0'\n",
    "# average '1'\n",
    "# good    '2'\n",
    "def convert_scores(scores):\n",
    "    def mapping(x):\n",
    "        if x < np.percentile(scores,25):\n",
    "            return 0\n",
    "        elif x < np.percentile(scores,75):\n",
    "            return 1\n",
    "        else:\n",
    "            return 2\n",
    "    return scores.apply(mapping)"
   ]
  },
  {
   "cell_type": "code",
   "execution_count": 42,
   "id": "f2c9a559",
   "metadata": {},
   "outputs": [],
   "source": [
    "# selecting which set to be used 1-8\n",
    "# in order to combine them all assign set number to 9\n",
    "def select_set_classification(dataframe,setNumber):\n",
    "    if setNumber == 1784:\n",
    "        dataframe2 = dataframe[dataframe.essay_set ==1]\n",
    "        texts = dataframe2['essay']\n",
    "        scores = dataframe2['domain1_score']\n",
    "        scores = scores.apply(lambda x: (x*3)/scores.max())\n",
    "        scores = convert_scores(scores)\n",
    "        for i in range(1,1783):\n",
    "            dataframe2 = dataframe[dataframe.essay_set  == i]\n",
    "            texts = texts.append(dataframe2['essay'])\n",
    "            s = dataframe2['domain1_score']\n",
    "            s = s.apply(lambda x: (x*3)/s.max())\n",
    "            s = convert_scores(s)\n",
    "            scores = scores.append(s)\n",
    "    else:\n",
    "        dataframe2 = dataframe[dataframe.essay_set  ==setNumber]\n",
    "        texts = dataframe2['essay']\n",
    "        scores = dataframe2['domain1_score']\n",
    "        scores = scores.apply(lambda x: (x*3)/scores.max())\n",
    "        scores = convert_scores(scores)\n",
    "        print\n",
    "    return texts, scores\n"
   ]
  },
  {
   "cell_type": "code",
   "execution_count": 43,
   "id": "e9657691",
   "metadata": {},
   "outputs": [
    {
     "name": "stdout",
     "output_type": "stream",
     "text": [
      "2.132080762759394\n",
      "      Average_Word_Length  Sentence_Count  Word_Count  Character_Count  \\\n",
      "54               4.595833              11         240             1127   \n",
      "1354             4.566740              32         457             2197   \n",
      "816              4.067797              16         295             1230   \n",
      "1513             4.582192              36         438             2063   \n",
      "1239             4.052142              25         537             2237   \n",
      "...                   ...             ...         ...              ...   \n",
      "1316             4.442786              36         603             2784   \n",
      "844              4.390282              38         638             2959   \n",
      "859              4.081281              17         406             1704   \n",
      "1648             4.062044              18         274             1148   \n",
      "987              4.259146              32         328             1454   \n",
      "\n",
      "      Noun_Count  Adjective_Count  Verb_Count  Adverb_Count  Lemma_Count  \\\n",
      "54            58               15          40            24          109   \n",
      "1354         143               35          84            23          225   \n",
      "816           64               19          69            16          114   \n",
      "1513         134               35          85            26          182   \n",
      "1239         141               24          96            48          176   \n",
      "...          ...              ...         ...           ...          ...   \n",
      "1316         162               39         117            37          245   \n",
      "844          175               42         135            31          276   \n",
      "859           90               36          75            22          173   \n",
      "1648          62               23          51            21          140   \n",
      "987           76               24          73            17          147   \n",
      "\n",
      "      Misspell_Count  \n",
      "54                 7  \n",
      "1354              26  \n",
      "816                5  \n",
      "1513              22  \n",
      "1239              17  \n",
      "...              ...  \n",
      "1316              24  \n",
      "844               39  \n",
      "859                7  \n",
      "1648               6  \n",
      "987               13  \n",
      "\n",
      "[1248 rows x 10 columns]\n",
      "False\n",
      "True\n"
     ]
    },
    {
     "data": {
      "image/png": "[encoded data removed]",
      "text/plain": [
       "<Figure size 432x288 with 1 Axes>"
      ]
     },
     "metadata": {
      "needs_background": "light"
     },
     "output_type": "display_data"
    }
   ],
   "source": [
    "# 1-8\n",
    "# 9:all sets combined\n",
    "texts, scores = select_set(dataframe,1)\n",
    "get_hist_avg(scores,5)\n",
    "X_train, X_test, y_train, y_test, data = data_prepare(texts,scores)\n",
    "\n",
    "# (0-1.5) bad (1.5-2.3) average (2.3-3) good"
   ]
  },
  {
   "cell_type": "code",
   "execution_count": 45,
   "id": "943db578",
   "metadata": {},
   "outputs": [
    {
     "name": "stdout",
     "output_type": "stream",
     "text": [
      "Testing for Linear Regression \n",
      "\n",
      "Mean squared error: 0.04663939411117041\n",
      "Mean squared error in percentage: 1.554646470372347\n",
      "Variance score: 0.6845865770518124\n",
      "Testing for Adaboost Regression \n",
      "\n",
      "Mean squared error: 0.04309737478812078\n",
      "Mean squared error in percentage: 1.436579159604026\n",
      "Variance score: 0.7085405854630007\n"
     ]
    },
    {
     "data": {
      "image/png": "[encoded data removed]",
      "text/plain": [
       "<Figure size 432x288 with 1 Axes>"
      ]
     },
     "metadata": {
      "needs_background": "light"
     },
     "output_type": "display_data"
    }
   ],
   "source": [
    "print('Testing for Linear Regression \\n')\n",
    "lin_regression(X_train,y_train,X_test,y_test)\n",
    "print('Testing for Adaboost Regression \\n')\n",
    "adaBoost_reg(X_train,y_train,X_test,y_test)\n",
    "# determines the regression line equation. the bar graph here shows the result from the adaboost line of code"
   ]
  },
  {
   "cell_type": "code",
   "execution_count": 47,
   "id": "85b702ec",
   "metadata": {},
   "outputs": [
    {
     "name": "stdout",
     "output_type": "stream",
     "text": [
      "      Average_Word_Length  Sentence_Count  Word_Count  Character_Count  \\\n",
      "764              4.048295              25         352             1471   \n",
      "1652             4.421053              12         304             1365   \n",
      "896              4.080863              28         371             1569   \n",
      "1023             4.126728              37         434             1894   \n",
      "1537             4.472689              26         476             2199   \n",
      "...                   ...             ...         ...              ...   \n",
      "177              4.766667              20         270             1342   \n",
      "36               4.276986              31         491             2167   \n",
      "345              4.090062              15         322             1351   \n",
      "207              4.960000              10         150              762   \n",
      "1618             4.158837              24         447             1923   \n",
      "\n",
      "      Noun_Count  Adjective_Count  Verb_Count  Adverb_Count  Lemma_Count  \\\n",
      "764          101               22          71            14          118   \n",
      "1652          66               25          72            32          160   \n",
      "896          107               19          77            15          140   \n",
      "1023         121               23          88            32          189   \n",
      "1537         132               30          92            41          249   \n",
      "...          ...              ...         ...           ...          ...   \n",
      "177           95               15          43            13          148   \n",
      "36           117               44         103            25          223   \n",
      "345           88               15          61            13          140   \n",
      "207           47               12          25             7           71   \n",
      "1618          93               25          81            42          216   \n",
      "\n",
      "      Misspell_Count  \n",
      "764               16  \n",
      "1652              16  \n",
      "896                7  \n",
      "1023              21  \n",
      "1537              35  \n",
      "...              ...  \n",
      "177               25  \n",
      "36                21  \n",
      "345               20  \n",
      "207                0  \n",
      "1618              21  \n",
      "\n",
      "[1248 rows x 10 columns]\n",
      "False\n",
      "True\n"
     ]
    }
   ],
   "source": [
    "#Dataset selection 2\n",
    "# 1-8\n",
    "# 9:all sets combined\n",
    "texts, scores = select_set_classification(dataframe,1)\n",
    "X_train, X_test, y_train, y_test,data = data_prepare(texts,scores)\n",
    "\n"
   ]
  },
  {
   "cell_type": "code",
   "execution_count": 48,
   "id": "d42a9224",
   "metadata": {},
   "outputs": [
    {
     "name": "stdout",
     "output_type": "stream",
     "text": [
      "      Average_Word_Length  Sentence_Count  Word_Count  Character_Count  \\\n",
      "933              4.035556               9         225              926   \n",
      "335              4.922807              24         285             1457   \n",
      "460              4.371882              29         441             1984   \n",
      "903              4.529412              30         493             2284   \n",
      "1588             4.187643              26         437             1882   \n",
      "...                   ...             ...         ...              ...   \n",
      "1430             4.458333              26         432             1988   \n",
      "1004             4.572944              27         377             1788   \n",
      "1465             4.570743              23         417             1958   \n",
      "364              4.408046              17         348             1579   \n",
      "450              4.601918              34         417             1982   \n",
      "\n",
      "      Noun_Count  Adjective_Count  Verb_Count  Adverb_Count  Lemma_Count  \\\n",
      "933           48               20          43            13          127   \n",
      "335           88               33          53            24          176   \n",
      "460          108               33          92            24          215   \n",
      "903          120               36         107            37          210   \n",
      "1588         101               26          82            34          184   \n",
      "...          ...              ...         ...           ...          ...   \n",
      "1430         104               25          88            37          193   \n",
      "1004         104               28          77            23          191   \n",
      "1465         119               28          77            16          185   \n",
      "364           87               24          64            19          163   \n",
      "450          117               35          81            33          160   \n",
      "\n",
      "      Misspell_Count  \n",
      "933                5  \n",
      "335               11  \n",
      "460               21  \n",
      "903               16  \n",
      "1588              11  \n",
      "...              ...  \n",
      "1430              18  \n",
      "1004              13  \n",
      "1465              14  \n",
      "364                8  \n",
      "450               14  \n",
      "\n",
      "[1248 rows x 10 columns]\n",
      "False\n",
      "True\n"
     ]
    }
   ],
   "source": [
    "# 1-8\n",
    "# 9:all sets combined\n",
    "texts, scores = select_set_classification(dataframe,1)\n",
    "X_train, X_test, y_train, y_test, data = data_prepare(texts,scores)"
   ]
  },
  {
   "cell_type": "code",
   "execution_count": 49,
   "id": "3b19808f",
   "metadata": {},
   "outputs": [
    {
     "name": "stdout",
     "output_type": "stream",
     "text": [
      "0.1\n",
      "0.7869158878504673\n",
      "0.780448717948718\n",
      "1\n",
      "0.7925233644859813\n",
      "0.7852564102564102\n",
      "10\n",
      "0.805607476635514\n",
      "0.7860576923076922\n",
      "100\n",
      "0.8018691588785046\n",
      "0.7900641025641025\n",
      "500\n",
      "0.7925233644859813\n",
      "0.7852564102564102\n",
      "1000\n",
      "0.7925233644859813\n",
      "0.7748397435897436\n"
     ]
    }
   ],
   "source": [
    "#Classification analysis\n",
    "a=[0.1,1,10,100,500,1000]\n",
    "for b in a:\n",
    "    clf = svm.SVC(C=b, gamma=0.00001)\n",
    "    clf.fit(X_train, y_train) \n",
    "    y_pred = clf.predict(X_test)\n",
    "    print (b)\n",
    "    print (clf.score(X_test,y_test))\n",
    "    print (np.mean(cross_val_score(clf, X_train, y_train, cv=3)))\n",
    "    \n",
    "    #results of the classification analysis"
   ]
  },
  {
   "cell_type": "code",
   "execution_count": 50,
   "id": "b9c973bc",
   "metadata": {},
   "outputs": [
    {
     "name": "stdout",
     "output_type": "stream",
     "text": [
      "Cohen’s kappa score: 0.6459298477829252\n"
     ]
    }
   ],
   "source": [
    "# Classification Analysis Cohen's Kappa Score\n",
    "clf = svm.SVC(C=100, gamma=0.00001)\n",
    "clf.fit(X_train, y_train) \n",
    "y_pred = clf.predict(X_test)\n",
    "print('Cohen’s kappa score: {}'.format(cohen_kappa_score(y_test,y_pred)))\n"
   ]
  },
  {
   "cell_type": "code",
   "execution_count": 51,
   "id": "8775fe6f",
   "metadata": {},
   "outputs": [
    {
     "name": "stdout",
     "output_type": "stream",
     "text": [
      "Coefficients: \n",
      " [ 2.04646331e-01  7.26960726e-03  9.30819804e-04  1.88678857e-04\n",
      " -1.25255339e-04  9.07675720e-04 -2.12964240e-03 -1.34615567e-03\n",
      "  6.01835998e-03 -3.60417258e-03]\n",
      "Mean squared error: 0.16\n",
      "Variance score: 0.61\n",
      "Cohen's kappa score: 0.60\n"
     ]
    }
   ],
   "source": [
    "## Training a Linear Regression model using only 10 numerical/POS/orthographic features\n",
    "\n",
    "linear_regressor = LinearRegression()\n",
    "\n",
    "linear_regressor.fit(X_train, y_train)\n",
    "\n",
    "y_pred = linear_regressor.predict(X_test)\n",
    "\n",
    "# The coefficients\n",
    "print('Coefficients: \\n', linear_regressor.coef_)\n",
    "\n",
    "# The mean squared error\n",
    "print(\"Mean squared error: %.2f\" % mean_squared_error(y_test, y_pred))\n",
    "\n",
    "# Explained variance score: 1 is perfect prediction\n",
    "print('Variance score: %.2f' % linear_regressor.score(X_test, y_test))\n",
    "\n",
    "# Cohen’s kappa score: 1 is complete agreement\n",
    "print('Cohen\\'s kappa score: %.2f' % cohen_kappa_score(np.rint(y_pred), y_test))\n"
   ]
  },
  {
   "cell_type": "code",
   "execution_count": 52,
   "id": "2233df4c",
   "metadata": {},
   "outputs": [
    {
     "name": "stdout",
     "output_type": "stream",
     "text": [
      "0.5916964659741664\n",
      "3.0\n",
      "Mean squared error: 0.16\n",
      "Variance score: 0.60\n",
      "Cohen's kappa score: 0.60\n"
     ]
    }
   ],
   "source": [
    "# Training a Ridge Regression model (l2 regularization) using only 10 numerical/POS/orthographic features\n",
    "\n",
    "alphas = np.array([3, 1, 0, 0.3, 0.1, 0.03, 0.01, 0.003, 0.001])\n",
    "\n",
    "ridge_regressor = Ridge()\n",
    "\n",
    "grid = GridSearchCV(estimator = ridge_regressor, param_grid = dict(alpha=alphas))\n",
    "grid.fit(X_train, y_train)\n",
    "\n",
    "y_pred = grid.predict(X_test)\n",
    "\n",
    "# summarize the results of the grid search\n",
    "print(grid.best_score_)\n",
    "print(grid.best_estimator_.alpha)\n",
    "\n",
    "# The mean squared error\n",
    "print(\"Mean squared error: %.2f\" % mean_squared_error(y_test, y_pred))\n",
    "\n",
    "# Explained variance score: 1 is perfect prediction\n",
    "print('Variance score: %.2f' % grid.score(X_test, y_test))\n",
    "\n",
    "# Cohen’s kappa score: 1 is complete agreement\n",
    "print('Cohen\\'s kappa score: %.2f' % cohen_kappa_score(np.rint(y_pred), y_test))\n"
   ]
  },
  {
   "cell_type": "code",
   "execution_count": 53,
   "id": "58a6a9de",
   "metadata": {},
   "outputs": [
    {
     "name": "stdout",
     "output_type": "stream",
     "text": [
      "0.5907037790560961\n",
      "0.1\n",
      "Mean squared error: 0.16\n",
      "Variance score: 0.60\n",
      "Cohen's kappa score: 0.58\n"
     ]
    }
   ],
   "source": [
    "# Training a Lasso Regression model (l1 regularization) using only 10 numerical/POS/orthographic features\n",
    "\n",
    "alphas = np.array([3, 1, 0.3, 0.1, 0.3])\n",
    "\n",
    "lasso_regressor = Lasso()\n",
    "\n",
    "grid = GridSearchCV(estimator = lasso_regressor, param_grid = dict(alpha=alphas))\n",
    "grid.fit(X_train, y_train)\n",
    "\n",
    "y_pred = grid.predict(X_test)\n",
    "\n",
    "# summarize the results of the grid search\n",
    "print(grid.best_score_)\n",
    "print(grid.best_estimator_.alpha)\n",
    "\n",
    "# The mean squared error\n",
    "print(\"Mean squared error: %.2f\" % mean_squared_error(y_test, y_pred))\n",
    "\n",
    "# Explained variance score: 1 is perfect prediction\n",
    "print('Variance score: %.2f' % grid.score(X_test, y_test))\n",
    "\n",
    "# Cohen’s kappa score: 1 is complete agreement\n",
    "print('Cohen\\'s kappa score: %.2f' % cohen_kappa_score(np.rint(y_pred), y_test))"
   ]
  },
  {
   "cell_type": "code",
   "execution_count": 54,
   "id": "b548bd5a",
   "metadata": {},
   "outputs": [
    {
     "name": "stderr",
     "output_type": "stream",
     "text": [
      "C:\\Users\\Patty\\AppData\\Local\\Programs\\Python\\Python39\\lib\\site-packages\\seaborn\\_decorators.py:36: FutureWarning: Pass the following variable as a keyword arg: x. From version 0.12, the only valid positional argument will be `data`, and passing other arguments without an explicit keyword will result in an error or misinterpretation.\n",
      "  warnings.warn(\n"
     ]
    },
    {
     "data": {
      "text/plain": [
       "<AxesSubplot:xlabel='domain1_score', ylabel='count'>"
      ]
     },
     "execution_count": 54,
     "metadata": {},
     "output_type": "execute_result"
    },
    {
     "data": {
      "image/png": "[encoded data removed]",
      "text/plain": [
       "<Figure size 432x288 with 1 Axes>"
      ]
     },
     "metadata": {
      "needs_background": "light"
     },
     "output_type": "display_data"
    }
   ],
   "source": [
    "#Data Analysis\n",
    "sns.countplot(scores)\n",
    "# the essay score that has around 0 as a label for bas has a count of 250, essay score label of 1 (average) has a count of 1000, and the essay score label of 2 (good) has a count \n",
    "# of 400"
   ]
  },
  {
   "cell_type": "code",
   "execution_count": 55,
   "id": "d3ca3acb",
   "metadata": {},
   "outputs": [
    {
     "name": "stderr",
     "output_type": "stream",
     "text": [
      "C:\\Users\\Patty\\AppData\\Local\\Programs\\Python\\Python39\\lib\\site-packages\\seaborn\\distributions.py:2619: FutureWarning: `distplot` is a deprecated function and will be removed in a future version. Please adapt your code to use either `displot` (a figure-level function with similar flexibility) or `histplot` (an axes-level function for histograms).\n",
      "  warnings.warn(msg, FutureWarning)\n",
      "C:\\Users\\Patty\\AppData\\Local\\Programs\\Python\\Python39\\lib\\site-packages\\seaborn\\distributions.py:2619: FutureWarning: `distplot` is a deprecated function and will be removed in a future version. Please adapt your code to use either `displot` (a figure-level function with similar flexibility) or `histplot` (an axes-level function for histograms).\n",
      "  warnings.warn(msg, FutureWarning)\n",
      "C:\\Users\\Patty\\AppData\\Local\\Programs\\Python\\Python39\\lib\\site-packages\\seaborn\\distributions.py:2619: FutureWarning: `distplot` is a deprecated function and will be removed in a future version. Please adapt your code to use either `displot` (a figure-level function with similar flexibility) or `histplot` (an axes-level function for histograms).\n",
      "  warnings.warn(msg, FutureWarning)\n"
     ]
    },
    {
     "data": {
      "image/png": "[encoded data removed]",
      "text/plain": [
       "<Figure size 432x288 with 1 Axes>"
      ]
     },
     "metadata": {
      "needs_background": "light"
     },
     "output_type": "display_data"
    }
   ],
   "source": [
    "zero = data[(data[\"Character_Count\"] > 0) & (scores == 0)]\n",
    "one = data[(data[\"Character_Count\"] > 0) & (scores == 1)]\n",
    "two = data[(data[\"Character_Count\"] > 0) & (scores == 2)]\n",
    "sns.distplot(zero[\"Character_Count\"], bins=10, color='r')\n",
    "sns.distplot(one[\"Character_Count\"], bins=10, color='g')\n",
    "sns.distplot(two[\"Character_Count\"], bins=10, color='b')\n",
    "plt.title(\"Score Distribution with respect to Character_Count\",fontsize=20)\n",
    "plt.xlabel(\"Character_Count\",fontsize=15)\n",
    "plt.ylabel(\"Distribuition of the scores\",fontsize=15)\n",
    "plt.show()"
   ]
  },
  {
   "cell_type": "code",
   "execution_count": 56,
   "id": "d5cf57ce",
   "metadata": {},
   "outputs": [
    {
     "name": "stderr",
     "output_type": "stream",
     "text": [
      "C:\\Users\\Patty\\AppData\\Local\\Programs\\Python\\Python39\\lib\\site-packages\\seaborn\\distributions.py:2619: FutureWarning: `distplot` is a deprecated function and will be removed in a future version. Please adapt your code to use either `displot` (a figure-level function with similar flexibility) or `histplot` (an axes-level function for histograms).\n",
      "  warnings.warn(msg, FutureWarning)\n",
      "C:\\Users\\Patty\\AppData\\Local\\Programs\\Python\\Python39\\lib\\site-packages\\seaborn\\distributions.py:2619: FutureWarning: `distplot` is a deprecated function and will be removed in a future version. Please adapt your code to use either `displot` (a figure-level function with similar flexibility) or `histplot` (an axes-level function for histograms).\n",
      "  warnings.warn(msg, FutureWarning)\n",
      "C:\\Users\\Patty\\AppData\\Local\\Programs\\Python\\Python39\\lib\\site-packages\\seaborn\\distributions.py:2619: FutureWarning: `distplot` is a deprecated function and will be removed in a future version. Please adapt your code to use either `displot` (a figure-level function with similar flexibility) or `histplot` (an axes-level function for histograms).\n",
      "  warnings.warn(msg, FutureWarning)\n"
     ]
    },
    {
     "data": {
      "image/png": "[encoded data removed]",
      "text/plain": [
       "<Figure size 432x288 with 1 Axes>"
      ]
     },
     "metadata": {
      "needs_background": "light"
     },
     "output_type": "display_data"
    }
   ],
   "source": [
    "zero = data[(data[\"Lemma_Count\"] > 0) & (scores == 0)]\n",
    "one = data[(data[\"Lemma_Count\"] > 0) & (scores == 1)]\n",
    "two = data[(data[\"Lemma_Count\"] > 0) & (scores == 2)]\n",
    "sns.distplot(zero[\"Lemma_Count\"], bins=10, color='r')\n",
    "sns.distplot(one[\"Lemma_Count\"], bins=10, color='g')\n",
    "sns.distplot(two[\"Lemma_Count\"], bins=10, color='b')\n",
    "plt.title(\"Score Distribution with respect to lemma count\",fontsize=20)\n",
    "plt.xlabel(\"Lemma Count\",fontsize=15)\n",
    "plt.ylabel(\"Distribuition of the scores\",fontsize=15)\n",
    "plt.show()"
   ]
  },
  {
   "cell_type": "code",
   "execution_count": 57,
   "id": "171a2332",
   "metadata": {},
   "outputs": [
    {
     "name": "stderr",
     "output_type": "stream",
     "text": [
      "C:\\Users\\Patty\\AppData\\Local\\Programs\\Python\\Python39\\lib\\site-packages\\seaborn\\distributions.py:2619: FutureWarning: `distplot` is a deprecated function and will be removed in a future version. Please adapt your code to use either `displot` (a figure-level function with similar flexibility) or `histplot` (an axes-level function for histograms).\n",
      "  warnings.warn(msg, FutureWarning)\n",
      "C:\\Users\\Patty\\AppData\\Local\\Programs\\Python\\Python39\\lib\\site-packages\\seaborn\\distributions.py:2619: FutureWarning: `distplot` is a deprecated function and will be removed in a future version. Please adapt your code to use either `displot` (a figure-level function with similar flexibility) or `histplot` (an axes-level function for histograms).\n",
      "  warnings.warn(msg, FutureWarning)\n",
      "C:\\Users\\Patty\\AppData\\Local\\Programs\\Python\\Python39\\lib\\site-packages\\seaborn\\distributions.py:2619: FutureWarning: `distplot` is a deprecated function and will be removed in a future version. Please adapt your code to use either `displot` (a figure-level function with similar flexibility) or `histplot` (an axes-level function for histograms).\n",
      "  warnings.warn(msg, FutureWarning)\n"
     ]
    },
    {
     "data": {
      "image/png": "[encoded data removed]",
      "text/plain": [
       "<Figure size 432x288 with 1 Axes>"
      ]
     },
     "metadata": {
      "needs_background": "light"
     },
     "output_type": "display_data"
    }
   ],
   "source": [
    "zero = data[(data[\"Sentence_Count\"] > 0) & (scores == 0)]\n",
    "one = data[(data[\"Sentence_Count\"] > 0) & (scores == 1)]\n",
    "two = data[(data[\"Sentence_Count\"] > 0) & (scores == 2)]\n",
    "sns.distplot(zero[\"Sentence_Count\"], bins=10, color='r')\n",
    "sns.distplot(one[\"Sentence_Count\"], bins=10, color='g')\n",
    "sns.distplot(two[\"Sentence_Count\"], bins=10, color='b')\n",
    "plt.title(\"Score Distribution with respect to sentence count\",fontsize=20)\n",
    "plt.xlabel(\"Sentence Count\",fontsize=15)\n",
    "plt.ylabel(\"Distribuition of the scores\",fontsize=15)\n",
    "plt.show()"
   ]
  },
  {
   "cell_type": "code",
   "execution_count": 58,
   "id": "ca53e26b",
   "metadata": {},
   "outputs": [
    {
     "name": "stderr",
     "output_type": "stream",
     "text": [
      "C:\\Users\\Patty\\AppData\\Local\\Programs\\Python\\Python39\\lib\\site-packages\\seaborn\\distributions.py:2619: FutureWarning: `distplot` is a deprecated function and will be removed in a future version. Please adapt your code to use either `displot` (a figure-level function with similar flexibility) or `histplot` (an axes-level function for histograms).\n",
      "  warnings.warn(msg, FutureWarning)\n",
      "C:\\Users\\Patty\\AppData\\Local\\Programs\\Python\\Python39\\lib\\site-packages\\seaborn\\distributions.py:2619: FutureWarning: `distplot` is a deprecated function and will be removed in a future version. Please adapt your code to use either `displot` (a figure-level function with similar flexibility) or `histplot` (an axes-level function for histograms).\n",
      "  warnings.warn(msg, FutureWarning)\n",
      "C:\\Users\\Patty\\AppData\\Local\\Programs\\Python\\Python39\\lib\\site-packages\\seaborn\\distributions.py:2619: FutureWarning: `distplot` is a deprecated function and will be removed in a future version. Please adapt your code to use either `displot` (a figure-level function with similar flexibility) or `histplot` (an axes-level function for histograms).\n",
      "  warnings.warn(msg, FutureWarning)\n"
     ]
    },
    {
     "data": {
      "image/png": "[encoded data removed]",
      "text/plain": [
       "<Figure size 432x288 with 1 Axes>"
      ]
     },
     "metadata": {
      "needs_background": "light"
     },
     "output_type": "display_data"
    }
   ],
   "source": [
    "zero = data[(data[\"Word_Count\"] > 0) & (scores == 0)]\n",
    "one = data[(data[\"Word_Count\"] > 0) & (scores == 1)]\n",
    "two = data[(data[\"Word_Count\"] > 0) & (scores == 2)]\n",
    "sns.distplot(zero[\"Word_Count\"], bins=10, color='r')\n",
    "sns.distplot(one[\"Word_Count\"], bins=10, color='g')\n",
    "sns.distplot(two[\"Word_Count\"], bins=10, color='b')\n",
    "plt.title(\"Score Distribution with respect to word count\",fontsize=20)\n",
    "plt.xlabel(\"Word_Count\",fontsize=15)\n",
    "plt.ylabel(\"Distribuition of the scores\",fontsize=15)\n",
    "plt.show()"
   ]
  },
  {
   "cell_type": "code",
   "execution_count": 59,
   "id": "57749cbc",
   "metadata": {},
   "outputs": [
    {
     "name": "stderr",
     "output_type": "stream",
     "text": [
      "C:\\Users\\Patty\\AppData\\Local\\Programs\\Python\\Python39\\lib\\site-packages\\seaborn\\distributions.py:2619: FutureWarning: `distplot` is a deprecated function and will be removed in a future version. Please adapt your code to use either `displot` (a figure-level function with similar flexibility) or `histplot` (an axes-level function for histograms).\n",
      "  warnings.warn(msg, FutureWarning)\n",
      "C:\\Users\\Patty\\AppData\\Local\\Programs\\Python\\Python39\\lib\\site-packages\\seaborn\\distributions.py:2619: FutureWarning: `distplot` is a deprecated function and will be removed in a future version. Please adapt your code to use either `displot` (a figure-level function with similar flexibility) or `histplot` (an axes-level function for histograms).\n",
      "  warnings.warn(msg, FutureWarning)\n",
      "C:\\Users\\Patty\\AppData\\Local\\Programs\\Python\\Python39\\lib\\site-packages\\seaborn\\distributions.py:2619: FutureWarning: `distplot` is a deprecated function and will be removed in a future version. Please adapt your code to use either `displot` (a figure-level function with similar flexibility) or `histplot` (an axes-level function for histograms).\n",
      "  warnings.warn(msg, FutureWarning)\n"
     ]
    },
    {
     "data": {
      "image/png": "[encoded data removed]",
      "text/plain": [
       "<Figure size 432x288 with 1 Axes>"
      ]
     },
     "metadata": {
      "needs_background": "light"
     },
     "output_type": "display_data"
    }
   ],
   "source": [
    "zero = data[(data[\"Average_Word_Length\"] > 0) & (scores == 0)]\n",
    "one = data[(data[\"Average_Word_Length\"] > 0) & (scores == 1)]\n",
    "two = data[(data[\"Average_Word_Length\"] > 0) & (scores == 2)]\n",
    "sns.distplot(zero[\"Average_Word_Length\"], bins=10, color='r')\n",
    "sns.distplot(one[\"Average_Word_Length\"], bins=10, color='g')\n",
    "sns.distplot(two[\"Average_Word_Length\"], bins=10, color='b')\n",
    "plt.title(\"Score Distribution with respect to Average_Word_Length\",fontsize=20)\n",
    "plt.xlabel(\"Average_Word_Length\",fontsize=15)\n",
    "plt.ylabel(\"Distribuition of the scores\",fontsize=15)\n",
    "plt.show()\n"
   ]
  },
  {
   "cell_type": "code",
   "execution_count": 60,
   "id": "fa6bf194",
   "metadata": {},
   "outputs": [
    {
     "name": "stdout",
     "output_type": "stream",
     "text": [
      "********* Auto Grading By Using KNearestNeighborClassifier ***********\n"
     ]
    }
   ],
   "source": [
    "print(\"********* Auto Grading By Using KNearestNeighborClassifier ***********\")"
   ]
  },
  {
   "cell_type": "code",
   "execution_count": 61,
   "id": "53eebdd5",
   "metadata": {},
   "outputs": [],
   "source": [
    "neighbors = 6\n",
    "components = 80"
   ]
  },
  {
   "cell_type": "code",
   "execution_count": 62,
   "id": "1d40a8ef",
   "metadata": {},
   "outputs": [],
   "source": [
    "def StemmingWordList(arrayList):\n",
    "    ps = nltk.PorterStemmer()\n",
    "    newList = [ps.stem(word) for word in arrayList]\n",
    "    return ''.join(newList)\n",
    "\n",
    "svd = TruncatedSVD(n_iter=10, n_components=components)\n",
    "tfidf = TfidfVectorizer(min_df = 0.01, max_df=0.85, stop_words='english')"
   ]
  },
  {
   "cell_type": "code",
   "execution_count": 66,
   "id": "16ee4925",
   "metadata": {},
   "outputs": [],
   "source": [
    "#import data using essay_set_descriptions and valid_set_set1\n",
    "train = pd.read_csv('essay_set_descriptions.csv')\n",
    "test = pd.read_csv('valid_set_set1.csv')\n",
    "\n",
    "train.set_index('essay_id')\n",
    "test.set_index('essay_id')\n",
    "y_train = train['domain1_score']\n",
    "y_test = test['Score']\n",
    "X = pd.concat([train,test])\n"
   ]
  },
  {
   "cell_type": "code",
   "execution_count": 67,
   "id": "d0ae47a3",
   "metadata": {},
   "outputs": [],
   "source": [
    "#'essay_id', 'essay_set', 'essay', 'rater1_domain1', 'rater2_domain1',       'domain1_score"
   ]
  },
  {
   "cell_type": "code",
   "execution_count": 68,
   "id": "dae0176e",
   "metadata": {},
   "outputs": [],
   "source": [
    "#Creating 2 addtional features\n",
    "#\"Number of words\" and \"Number of sentences\" improve the accuracy\n",
    "\n",
    "train_numberOfSentences = X['essay'].apply(lambda x: len(x.split('.')))\n",
    "train_numberOfWords = X['essay'].apply(lambda x: len(x.split()))"
   ]
  },
  {
   "cell_type": "code",
   "execution_count": 69,
   "id": "df5d0790",
   "metadata": {},
   "outputs": [],
   "source": [
    "content = X['essay']\n",
    "content = content.apply(lambda x: re.sub('^[a-zA-Z]', ' ', x))\n",
    "content = content.apply(lambda x: StemmingWordList(x))"
   ]
  },
  {
   "cell_type": "code",
   "execution_count": 70,
   "id": "20e3b1a2",
   "metadata": {},
   "outputs": [],
   "source": [
    "x_transform = tfidf.fit_transform(content)"
   ]
  },
  {
   "cell_type": "code",
   "execution_count": 71,
   "id": "78cf8421",
   "metadata": {},
   "outputs": [
    {
     "name": "stderr",
     "output_type": "stream",
     "text": [
      "C:\\Users\\Patty\\AppData\\Local\\Temp\\ipykernel_19080\\1077382334.py:1: FutureWarning: Support for multi-dimensional indexing (e.g. `obj[:, None]`) is deprecated and will be removed in a future version.  Convert to a numpy array before indexing instead.\n",
      "  x_transform = sparse.hstack((x_transform, train_numberOfSentences[:,None]))\n",
      "C:\\Users\\Patty\\AppData\\Local\\Temp\\ipykernel_19080\\1077382334.py:2: FutureWarning: Support for multi-dimensional indexing (e.g. `obj[:, None]`) is deprecated and will be removed in a future version.  Convert to a numpy array before indexing instead.\n",
      "  x_transform = sparse.hstack((x_transform, train_numberOfWords[:,None]))\n"
     ]
    }
   ],
   "source": [
    "x_transform = sparse.hstack((x_transform, train_numberOfSentences[:,None]))\n",
    "x_transform = sparse.hstack((x_transform, train_numberOfWords[:,None]))"
   ]
  },
  {
   "cell_type": "code",
   "execution_count": 72,
   "id": "cd60050b",
   "metadata": {},
   "outputs": [],
   "source": [
    "x_transform = svd.fit_transform(x_transform)"
   ]
  },
  {
   "cell_type": "code",
   "execution_count": 73,
   "id": "924c0f9a",
   "metadata": {},
   "outputs": [],
   "source": [
    "x_train = x_transform[:len(train)]\n",
    "x_test = x_transform[len(train):]"
   ]
  },
  {
   "cell_type": "code",
   "execution_count": 74,
   "id": "f4f818bb",
   "metadata": {},
   "outputs": [
    {
     "data": {
      "text/html": [
       "<style>#sk-container-id-1 {color: black;background-color: white;}#sk-container-id-1 pre{padding: 0;}#sk-container-id-1 div.sk-toggleable {background-color: white;}#sk-container-id-1 label.sk-toggleable__label {cursor: pointer;display: block;width: 100%;margin-bottom: 0;padding: 0.3em;box-sizing: border-box;text-align: center;}#sk-container-id-1 label.sk-toggleable__label-arrow:before {content: \"▸\";float: left;margin-right: 0.25em;color: #696969;}#sk-container-id-1 label.sk-toggleable__label-arrow:hover:before {color: black;}#sk-container-id-1 div.sk-estimator:hover label.sk-toggleable__label-arrow:before {color: black;}#sk-container-id-1 div.sk-toggleable__content {max-height: 0;max-width: 0;overflow: hidden;text-align: left;background-color: #f0f8ff;}#sk-container-id-1 div.sk-toggleable__content pre {margin: 0.2em;color: black;border-radius: 0.25em;background-color: #f0f8ff;}#sk-container-id-1 input.sk-toggleable__control:checked~div.sk-toggleable__content {max-height: 200px;max-width: 100%;overflow: auto;}#sk-container-id-1 input.sk-toggleable__control:checked~label.sk-toggleable__label-arrow:before {content: \"▾\";}#sk-container-id-1 div.sk-estimator input.sk-toggleable__control:checked~label.sk-toggleable__label {background-color: #d4ebff;}#sk-container-id-1 div.sk-label input.sk-toggleable__control:checked~label.sk-toggleable__label {background-color: #d4ebff;}#sk-container-id-1 input.sk-hidden--visually {border: 0;clip: rect(1px 1px 1px 1px);clip: rect(1px, 1px, 1px, 1px);height: 1px;margin: -1px;overflow: hidden;padding: 0;position: absolute;width: 1px;}#sk-container-id-1 div.sk-estimator {font-family: monospace;background-color: #f0f8ff;border: 1px dotted black;border-radius: 0.25em;box-sizing: border-box;margin-bottom: 0.5em;}#sk-container-id-1 div.sk-estimator:hover {background-color: #d4ebff;}#sk-container-id-1 div.sk-parallel-item::after {content: \"\";width: 100%;border-bottom: 1px solid gray;flex-grow: 1;}#sk-container-id-1 div.sk-label:hover label.sk-toggleable__label {background-color: #d4ebff;}#sk-container-id-1 div.sk-serial::before {content: \"\";position: absolute;border-left: 1px solid gray;box-sizing: border-box;top: 0;bottom: 0;left: 50%;z-index: 0;}#sk-container-id-1 div.sk-serial {display: flex;flex-direction: column;align-items: center;background-color: white;padding-right: 0.2em;padding-left: 0.2em;position: relative;}#sk-container-id-1 div.sk-item {position: relative;z-index: 1;}#sk-container-id-1 div.sk-parallel {display: flex;align-items: stretch;justify-content: center;background-color: white;position: relative;}#sk-container-id-1 div.sk-item::before, #sk-container-id-1 div.sk-parallel-item::before {content: \"\";position: absolute;border-left: 1px solid gray;box-sizing: border-box;top: 0;bottom: 0;left: 50%;z-index: -1;}#sk-container-id-1 div.sk-parallel-item {display: flex;flex-direction: column;z-index: 1;position: relative;background-color: white;}#sk-container-id-1 div.sk-parallel-item:first-child::after {align-self: flex-end;width: 50%;}#sk-container-id-1 div.sk-parallel-item:last-child::after {align-self: flex-start;width: 50%;}#sk-container-id-1 div.sk-parallel-item:only-child::after {width: 0;}#sk-container-id-1 div.sk-dashed-wrapped {border: 1px dashed gray;margin: 0 0.4em 0.5em 0.4em;box-sizing: border-box;padding-bottom: 0.4em;background-color: white;}#sk-container-id-1 div.sk-label label {font-family: monospace;font-weight: bold;display: inline-block;line-height: 1.2em;}#sk-container-id-1 div.sk-label-container {text-align: center;}#sk-container-id-1 div.sk-container {/* jupyter's `normalize.less` sets `[hidden] { display: none; }` but bootstrap.min.css set `[hidden] { display: none !important; }` so we also need the `!important` here to be able to override the default hidden behavior on the sphinx rendered scikit-learn.org. See: https://github.com/scikit-learn/scikit-learn/issues/21755 */display: inline-block !important;position: relative;}#sk-container-id-1 div.sk-text-repr-fallback {display: none;}</style><div id=\"sk-container-id-1\" class=\"sk-top-container\"><div class=\"sk-text-repr-fallback\"><pre>NearestNeighbors(n_neighbors=6)</pre><b>In a Jupyter environment, please rerun this cell to show the HTML representation or trust the notebook. <br />On GitHub, the HTML representation is unable to render, please try loading this page with nbviewer.org.</b></div><div class=\"sk-container\" hidden><div class=\"sk-item\"><div class=\"sk-estimator sk-toggleable\"><input class=\"sk-toggleable__control sk-hidden--visually\" id=\"sk-estimator-id-1\" type=\"checkbox\" checked><label for=\"sk-estimator-id-1\" class=\"sk-toggleable__label sk-toggleable__label-arrow\">NearestNeighbors</label><div class=\"sk-toggleable__content\"><pre>NearestNeighbors(n_neighbors=6)</pre></div></div></div></div></div>"
      ],
      "text/plain": [
       "NearestNeighbors(n_neighbors=6)"
      ]
     },
     "execution_count": 74,
     "metadata": {},
     "output_type": "execute_result"
    }
   ],
   "source": [
    "nearestNeighbors = NearestNeighbors(n_neighbors=neighbors)\n",
    "nearestNeighbors.fit(x_train)"
   ]
  },
  {
   "cell_type": "code",
   "execution_count": 75,
   "id": "5f33ee1c",
   "metadata": {},
   "outputs": [
    {
     "data": {
      "text/html": [
       "<style>#sk-container-id-2 {color: black;background-color: white;}#sk-container-id-2 pre{padding: 0;}#sk-container-id-2 div.sk-toggleable {background-color: white;}#sk-container-id-2 label.sk-toggleable__label {cursor: pointer;display: block;width: 100%;margin-bottom: 0;padding: 0.3em;box-sizing: border-box;text-align: center;}#sk-container-id-2 label.sk-toggleable__label-arrow:before {content: \"▸\";float: left;margin-right: 0.25em;color: #696969;}#sk-container-id-2 label.sk-toggleable__label-arrow:hover:before {color: black;}#sk-container-id-2 div.sk-estimator:hover label.sk-toggleable__label-arrow:before {color: black;}#sk-container-id-2 div.sk-toggleable__content {max-height: 0;max-width: 0;overflow: hidden;text-align: left;background-color: #f0f8ff;}#sk-container-id-2 div.sk-toggleable__content pre {margin: 0.2em;color: black;border-radius: 0.25em;background-color: #f0f8ff;}#sk-container-id-2 input.sk-toggleable__control:checked~div.sk-toggleable__content {max-height: 200px;max-width: 100%;overflow: auto;}#sk-container-id-2 input.sk-toggleable__control:checked~label.sk-toggleable__label-arrow:before {content: \"▾\";}#sk-container-id-2 div.sk-estimator input.sk-toggleable__control:checked~label.sk-toggleable__label {background-color: #d4ebff;}#sk-container-id-2 div.sk-label input.sk-toggleable__control:checked~label.sk-toggleable__label {background-color: #d4ebff;}#sk-container-id-2 input.sk-hidden--visually {border: 0;clip: rect(1px 1px 1px 1px);clip: rect(1px, 1px, 1px, 1px);height: 1px;margin: -1px;overflow: hidden;padding: 0;position: absolute;width: 1px;}#sk-container-id-2 div.sk-estimator {font-family: monospace;background-color: #f0f8ff;border: 1px dotted black;border-radius: 0.25em;box-sizing: border-box;margin-bottom: 0.5em;}#sk-container-id-2 div.sk-estimator:hover {background-color: #d4ebff;}#sk-container-id-2 div.sk-parallel-item::after {content: \"\";width: 100%;border-bottom: 1px solid gray;flex-grow: 1;}#sk-container-id-2 div.sk-label:hover label.sk-toggleable__label {background-color: #d4ebff;}#sk-container-id-2 div.sk-serial::before {content: \"\";position: absolute;border-left: 1px solid gray;box-sizing: border-box;top: 0;bottom: 0;left: 50%;z-index: 0;}#sk-container-id-2 div.sk-serial {display: flex;flex-direction: column;align-items: center;background-color: white;padding-right: 0.2em;padding-left: 0.2em;position: relative;}#sk-container-id-2 div.sk-item {position: relative;z-index: 1;}#sk-container-id-2 div.sk-parallel {display: flex;align-items: stretch;justify-content: center;background-color: white;position: relative;}#sk-container-id-2 div.sk-item::before, #sk-container-id-2 div.sk-parallel-item::before {content: \"\";position: absolute;border-left: 1px solid gray;box-sizing: border-box;top: 0;bottom: 0;left: 50%;z-index: -1;}#sk-container-id-2 div.sk-parallel-item {display: flex;flex-direction: column;z-index: 1;position: relative;background-color: white;}#sk-container-id-2 div.sk-parallel-item:first-child::after {align-self: flex-end;width: 50%;}#sk-container-id-2 div.sk-parallel-item:last-child::after {align-self: flex-start;width: 50%;}#sk-container-id-2 div.sk-parallel-item:only-child::after {width: 0;}#sk-container-id-2 div.sk-dashed-wrapped {border: 1px dashed gray;margin: 0 0.4em 0.5em 0.4em;box-sizing: border-box;padding-bottom: 0.4em;background-color: white;}#sk-container-id-2 div.sk-label label {font-family: monospace;font-weight: bold;display: inline-block;line-height: 1.2em;}#sk-container-id-2 div.sk-label-container {text-align: center;}#sk-container-id-2 div.sk-container {/* jupyter's `normalize.less` sets `[hidden] { display: none; }` but bootstrap.min.css set `[hidden] { display: none !important; }` so we also need the `!important` here to be able to override the default hidden behavior on the sphinx rendered scikit-learn.org. See: https://github.com/scikit-learn/scikit-learn/issues/21755 */display: inline-block !important;position: relative;}#sk-container-id-2 div.sk-text-repr-fallback {display: none;}</style><div id=\"sk-container-id-2\" class=\"sk-top-container\"><div class=\"sk-text-repr-fallback\"><pre>NearestNeighbors(n_neighbors=6)</pre><b>In a Jupyter environment, please rerun this cell to show the HTML representation or trust the notebook. <br />On GitHub, the HTML representation is unable to render, please try loading this page with nbviewer.org.</b></div><div class=\"sk-container\" hidden><div class=\"sk-item\"><div class=\"sk-estimator sk-toggleable\"><input class=\"sk-toggleable__control sk-hidden--visually\" id=\"sk-estimator-id-2\" type=\"checkbox\" checked><label for=\"sk-estimator-id-2\" class=\"sk-toggleable__label sk-toggleable__label-arrow\">NearestNeighbors</label><div class=\"sk-toggleable__content\"><pre>NearestNeighbors(n_neighbors=6)</pre></div></div></div></div></div>"
      ],
      "text/plain": [
       "NearestNeighbors(n_neighbors=6)"
      ]
     },
     "execution_count": 75,
     "metadata": {},
     "output_type": "execute_result"
    }
   ],
   "source": [
    "NearestNeighbors(n_neighbors=6)"
   ]
  },
  {
   "cell_type": "code",
   "execution_count": 76,
   "id": "a91c9aa8",
   "metadata": {},
   "outputs": [],
   "source": [
    "test_dist, test_ind = nearestNeighbors.kneighbors(x_test)"
   ]
  },
  {
   "cell_type": "code",
   "execution_count": 77,
   "id": "6db97b9f",
   "metadata": {},
   "outputs": [],
   "source": [
    "#Using custom median to predict score\n",
    "i_prediction = list()\n",
    "for i_dist in range(0, len(test_dist)):\n",
    "    t = 0\n",
    "    idx = 0\n",
    "    avg = sum(test_dist[i_dist])/2\n",
    "    for dist in test_dist[i_dist]:\n",
    "        t += dist\n",
    "        if (t < avg):\n",
    "            idx += 1\n",
    "        else:\n",
    "            i_prediction.append(test_ind[i_dist][idx])\n",
    "            break"
   ]
  },
  {
   "cell_type": "code",
   "execution_count": 78,
   "id": "251b2560",
   "metadata": {},
   "outputs": [],
   "source": [
    "\n",
    "prediction_list = list()\n",
    "for i in i_prediction:\n",
    "    prediction_list.append(y_train[i])\n",
    "    "
   ]
  },
  {
   "cell_type": "code",
   "execution_count": 79,
   "id": "15ab74f6",
   "metadata": {},
   "outputs": [],
   "source": [
    "from sklearn.impute import SimpleImputer\n",
    "imp = SimpleImputer(missing_values=np.nan, strategy='mean')\n",
    "values = imp.fit([[1, 2], [np.nan, 3], [7, 6]])"
   ]
  },
  {
   "cell_type": "code",
   "execution_count": 80,
   "id": "ae1a28d7",
   "metadata": {},
   "outputs": [
    {
     "data": {
      "text/plain": [
       "0.07311398439213934"
      ]
     },
     "execution_count": 80,
     "metadata": {},
     "output_type": "execute_result"
    }
   ],
   "source": [
    "cohen_kappa_score(y_test, prediction_list,weights='quadratic')"
   ]
  },
  {
   "cell_type": "code",
   "execution_count": 81,
   "id": "1cb9eb52",
   "metadata": {},
   "outputs": [],
   "source": [
    "#Using true median for prediction\n",
    "\n",
    "prediction_list = list()\n",
    "for val in test_ind:\n",
    "    prediction_list.append(y_train[val[round(neighbors/2)]])\n",
    "    "
   ]
  },
  {
   "cell_type": "code",
   "execution_count": 82,
   "id": "18b12b23",
   "metadata": {},
   "outputs": [
    {
     "data": {
      "text/plain": [
       "0.07300615495106832"
      ]
     },
     "execution_count": 82,
     "metadata": {},
     "output_type": "execute_result"
    }
   ],
   "source": [
    "cohen_kappa_score(y_test, prediction_list,weights='quadratic') "
   ]
  },
  {
   "cell_type": "code",
   "execution_count": 83,
   "id": "37dd6b48",
   "metadata": {},
   "outputs": [],
   "source": [
    "#Using closest item\n",
    "\n",
    "prediction_list = list()\n",
    "for val in test_ind:\n",
    "    prediction_list.append(y_train[val[0]])"
   ]
  },
  {
   "cell_type": "code",
   "execution_count": 84,
   "id": "897fcfb8",
   "metadata": {},
   "outputs": [
    {
     "data": {
      "text/plain": [
       "0.08560520353373025"
      ]
     },
     "execution_count": 84,
     "metadata": {},
     "output_type": "execute_result"
    }
   ],
   "source": [
    "cohen_kappa_score(y_test, prediction_list,weights='quadratic') "
   ]
  },
  {
   "cell_type": "code",
   "execution_count": 85,
   "id": "e9d58ee3",
   "metadata": {},
   "outputs": [],
   "source": [
    "#Using mean of score\n",
    "\n",
    "prediction_list = list()\n",
    "for val in test_ind:\n",
    "    total = 0\n",
    "    for i in val:\n",
    "        total += y_train[i]\n",
    "    avg = round(total / len(val)) \n",
    "    prediction_list.append(avg)"
   ]
  },
  {
   "cell_type": "code",
   "execution_count": 86,
   "id": "5e2d4065",
   "metadata": {},
   "outputs": [
    {
     "data": {
      "text/plain": [
       "0.2036421885128663"
      ]
     },
     "execution_count": 86,
     "metadata": {},
     "output_type": "execute_result"
    }
   ],
   "source": [
    "cohen_kappa_score(y_test, prediction_list,weights='quadratic') "
   ]
  },
  {
   "cell_type": "markdown",
   "id": "6ac9eaac",
   "metadata": {},
   "source": [
    "# Observations\n",
    "Based on the line of codes, CLASSIFICATION ANALYSIS HAS THE HIGHEST COHEN'S KAPPA SCORE (0.64). Compared to linear regression and ridge regression that has 0.60, lasso \n",
    "regression has 0.58, and KNN (median = 0.073, closest item = 0.085, mean of score = 0.20)"
   ]
  }
 ],
 "metadata": {
  "kernelspec": {
   "display_name": "Python 3 (ipykernel)",
   "language": "python",
   "name": "python3"
  },
  "language_info": {
   "codemirror_mode": {
    "name": "ipython",
    "version": 3
   },
   "file_extension": ".py",
   "mimetype": "text/x-python",
   "name": "python",
   "nbconvert_exporter": "python",
   "pygments_lexer": "ipython3",
   "version": "3.9.6"
  }
 },
 "nbformat": 4,
 "nbformat_minor": 5
}
